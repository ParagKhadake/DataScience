{
 "cells": [
  {
   "cell_type": "code",
   "execution_count": null,
   "id": "5505b191",
   "metadata": {},
   "outputs": [],
   "source": [
    "import math\n",
    "import os\n",
    "import datetime"
   ]
  },
  {
   "cell_type": "code",
   "execution_count": 1,
   "id": "25e26555",
   "metadata": {},
   "outputs": [
    {
     "name": "stdout",
     "output_type": "stream",
     "text": [
      "Hello World\n"
     ]
    }
   ],
   "source": [
    "# define function\n",
    "\n",
    "def sum():   # sum() function defination\n",
    "    print('Hello World')\n",
    "\n",
    "ans = sum()     # sum() function calling and storing in variable ans"
   ]
  },
  {
   "cell_type": "code",
   "execution_count": 9,
   "id": "afec13b8",
   "metadata": {},
   "outputs": [
    {
     "name": "stdout",
     "output_type": "stream",
     "text": [
      "The addition of two numbers100 and 200 is 300\n"
     ]
    }
   ],
   "source": [
    "def sum(num1,num2):\n",
    "    num3 = num1 + num2\n",
    "    print(f'The addition of two numbers{num1} and {num2} is',num3)\n",
    "\n",
    "\n",
    "\n",
    "ans = sum(100,200)"
   ]
  },
  {
   "cell_type": "code",
   "execution_count": 11,
   "id": "0727fed6",
   "metadata": {},
   "outputs": [
    {
     "name": "stdout",
     "output_type": "stream",
     "text": [
      "The addition of two numbers60.0 and 10.0 is 70.0\n",
      "The sunstraction of two numbers60.0 and 10.0 is 50.0\n",
      "The multiplication of two numbers60.0 and 10.0 is 600.0\n",
      "The division of two numbers60.0 and 10.0 is 6.0\n"
     ]
    }
   ],
   "source": [
    "num1 = float(input('Enter the first number:'))\n",
    "num2 = float(input('Enter the second number:'))\n",
    "\n",
    "def sum(num1,num2): \n",
    "    num3 = num1 + num2\n",
    "    print(f'The addition of two numbers{num1} and {num2} is',num3)\n",
    "    return num3\n",
    "\n",
    "def sub(num1,num2): \n",
    "    num4 = num1 - num2\n",
    "    print(f'The sunstraction of two numbers{num1} and {num2} is',num4)\n",
    "    return num4 \n",
    "\n",
    "def mul(num1,num2): \n",
    "    num5 = num1 * num2\n",
    "    print(f'The multiplication of two numbers{num1} and {num2} is',num5) \n",
    "    return num5\n",
    "\n",
    "def div(num1,num2): \n",
    "    num6 = num1 / num2\n",
    "    print(f'The division of two numbers{num1} and {num2} is',num6)\n",
    "    return num6\n",
    "\n",
    "addtion = sum(num1,num2)\n",
    "substarction = sub(num1,num2)\n",
    "multiplication = mul(num1,num2)\n",
    "division = div(num1,num2)\n",
    "\n"
   ]
  },
  {
   "cell_type": "code",
   "execution_count": 18,
   "id": "14c4f5f0",
   "metadata": {},
   "outputs": [
    {
     "data": {
      "text/plain": [
       "70.0"
      ]
     },
     "execution_count": 18,
     "metadata": {},
     "output_type": "execute_result"
    }
   ],
   "source": [
    "addtion\n"
   ]
  },
  {
   "cell_type": "code",
   "execution_count": 19,
   "id": "7e180e14",
   "metadata": {},
   "outputs": [
    {
     "data": {
      "text/plain": [
       "50.0"
      ]
     },
     "execution_count": 19,
     "metadata": {},
     "output_type": "execute_result"
    }
   ],
   "source": [
    "substarction"
   ]
  },
  {
   "cell_type": "code",
   "execution_count": 20,
   "id": "5a73a8ab",
   "metadata": {},
   "outputs": [
    {
     "data": {
      "text/plain": [
       "600.0"
      ]
     },
     "execution_count": 20,
     "metadata": {},
     "output_type": "execute_result"
    }
   ],
   "source": [
    "multiplication"
   ]
  },
  {
   "cell_type": "code",
   "execution_count": 21,
   "id": "f9452e87",
   "metadata": {},
   "outputs": [
    {
     "data": {
      "text/plain": [
       "6.0"
      ]
     },
     "execution_count": 21,
     "metadata": {},
     "output_type": "execute_result"
    }
   ],
   "source": [
    "division"
   ]
  },
  {
   "cell_type": "code",
   "execution_count": 3,
   "id": "6a2ed765",
   "metadata": {},
   "outputs": [
    {
     "name": "stdout",
     "output_type": "stream",
     "text": [
      "The given string is Palindrom\n"
     ]
    }
   ],
   "source": [
    "text = input('Enter the text')\n",
    "text1 = text[::-1]\n",
    "\n",
    "def pal(text):\n",
    "    if text == text1:\n",
    "        print('The given string is Palindrom')\n",
    "    else:\n",
    "        print('The given string is not a palindrom')\n",
    "\n",
    "    \n",
    "pal(text)"
   ]
  },
  {
   "cell_type": "code",
   "execution_count": 6,
   "id": "aaeec4bb",
   "metadata": {},
   "outputs": [
    {
     "name": "stdout",
     "output_type": "stream",
     "text": [
      "New Balance is  4000.0\n"
     ]
    }
   ],
   "source": [
    "balance = 10000\n",
    "withdraw = float(input('Enter the amount to withdraw: '))\n",
    "threshould = 2000\n",
    "\n",
    "def trans(withdraw):\n",
    "    if withdraw >= balance:\n",
    "        print('Insufficient Balance')\n",
    "    if withdraw <= balance:\n",
    "        new_balance = balance - withdraw\n",
    "        if new_balance >= 2000:\n",
    "            print('New Balance is ',new_balance)\n",
    "        else:\n",
    "            print('Check Your Transaction')\n",
    "\n",
    "trans(withdraw)\n",
    "                 \n",
    "\n",
    "    "
   ]
  }
 ],
 "metadata": {
  "kernelspec": {
   "display_name": "base",
   "language": "python",
   "name": "python3"
  },
  "language_info": {
   "codemirror_mode": {
    "name": "ipython",
    "version": 3
   },
   "file_extension": ".py",
   "mimetype": "text/x-python",
   "name": "python",
   "nbconvert_exporter": "python",
   "pygments_lexer": "ipython3",
   "version": "3.12.7"
  }
 },
 "nbformat": 4,
 "nbformat_minor": 5
}
