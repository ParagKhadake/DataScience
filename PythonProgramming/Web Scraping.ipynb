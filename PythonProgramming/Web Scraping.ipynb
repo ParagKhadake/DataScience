{
 "cells": [
  {
   "cell_type": "markdown",
   "id": "d684da4e",
   "metadata": {},
   "source": [
    "### Web Scrapping"
   ]
  },
  {
   "cell_type": "code",
   "execution_count": 10,
   "id": "06569df8",
   "metadata": {},
   "outputs": [
    {
     "name": "stdout",
     "output_type": "stream",
     "text": [
      "                                            headline                  source  \\\n",
      "0  अमेरिकी सेना की परेड में PAK आर्मी चीफ आसिम मु...  https://www.aajtak.in/   \n",
      "1  कांग्रेस के वरिष्ठ नेता जयराम रमेश ने सोशल मीड...  https://www.aajtak.in/   \n",
      "2  ईरान के खिलाफ इजरायल के साथ खुलकर जंग में कूदा...  https://www.aajtak.in/   \n",
      "3  'सबसे बड़ी पुलिस भर्ती...', 60244 कांस्टेबल को...  https://www.aajtak.in/   \n",
      "4  खरीदना है Inverter AC, ये हैं Amazon-Flipkart ...  https://www.aajtak.in/   \n",
      "5  'मां ने PR गेम नहीं खेला', युजवेंद्र से तलाक क...  https://www.aajtak.in/   \n",
      "6  यूपी के विधानसभा स्पीकर सतीश महाना को आशीर्वाद...  https://www.aajtak.in/   \n",
      "7  कमल कौर की हत्या और विदेशी नंबर से कॉल... अब इ...  https://www.aajtak.in/   \n",
      "8  विजय रूपाणी के DNA का हुआ मिलान, जल्द परिजनों ...  https://www.aajtak.in/   \n",
      "9  Tata का दम! Harrier EV ने खींचा 23,000KG का मि...  https://www.aajtak.in/   \n",
      "\n",
      "                scraped_time  \n",
      "0 2025-06-15 14:09:01.637313  \n",
      "1 2025-06-15 14:09:01.637313  \n",
      "2 2025-06-15 14:09:01.637313  \n",
      "3 2025-06-15 14:09:01.637313  \n",
      "4 2025-06-15 14:09:01.637313  \n",
      "5 2025-06-15 14:09:01.637313  \n",
      "6 2025-06-15 14:09:01.637313  \n",
      "7 2025-06-15 14:09:01.637313  \n",
      "8 2025-06-15 14:09:01.637313  \n",
      "9 2025-06-15 14:09:01.637313  \n"
     ]
    }
   ],
   "source": [
    "import requests\n",
    "from bs4 import BeautifulSoup\n",
    "import pandas as pd\n",
    "from datetime import datetime\n",
    "\n",
    "\n",
    "# Target URL\n",
    "url = \"https://www.aajtak.in/\"\n",
    "\n",
    "# Send HTTP GET request\n",
    "response = requests.get(url)\n",
    "\n",
    "# Check if request is succssful\n",
    "if response.status_code == 200:\n",
    "    soup = BeautifulSoup(response.content, 'html.parser')\n",
    "\n",
    "    # Locate headlines (update tag and class as need after inspecting the site)\n",
    "    headlines_html = soup.find_all('h3')  # Adjust if needed\n",
    "\n",
    "    # Extract text from tags\n",
    "    headlines = [h.get_text(strip=True) for h in headlines_html if h.get_text(strip=True)]\n",
    "\n",
    "    df = pd.DataFrame({'headline': headlines,'source': url, 'scraped_time': datetime.now()})\n",
    "\n",
    "    print(df.head(10))\n",
    "\n",
    "else:\n",
    "    print(\"Failed to retrieve teh webpage. Status code:\", response.status_code)\n",
    "\n",
    "\n"
   ]
  },
  {
   "cell_type": "code",
   "execution_count": null,
   "id": "41d4df8d",
   "metadata": {},
   "outputs": [],
   "source": []
  }
 ],
 "metadata": {
  "kernelspec": {
   "display_name": "base",
   "language": "python",
   "name": "python3"
  },
  "language_info": {
   "codemirror_mode": {
    "name": "ipython",
    "version": 3
   },
   "file_extension": ".py",
   "mimetype": "text/x-python",
   "name": "python",
   "nbconvert_exporter": "python",
   "pygments_lexer": "ipython3",
   "version": "3.12.7"
  }
 },
 "nbformat": 4,
 "nbformat_minor": 5
}
