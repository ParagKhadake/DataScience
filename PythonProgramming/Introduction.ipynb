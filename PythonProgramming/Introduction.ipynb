{
 "cells": [
  {
   "cell_type": "markdown",
   "id": "71b86564",
   "metadata": {},
   "source": [
    "### Introduction to Python Programming"
   ]
  },
  {
   "cell_type": "code",
   "execution_count": 1,
   "id": "eeda45d6",
   "metadata": {},
   "outputs": [
    {
     "name": "stdout",
     "output_type": "stream",
     "text": [
      "<class 'int'>\n",
      "<class 'float'>\n",
      "<class 'str'>\n"
     ]
    }
   ],
   "source": [
    "# Variable Defination\n",
    "\n",
    "number = 1000          # Defining Integer Variable\n",
    "decimal = 1000.890     # Defining float Variable; Decimal\n",
    "string = 'Hello World' # Defining String: \"Text Information\"\n",
    "\n",
    "''' \n",
    "Data Types in Python are as follows\n",
    "1. Integer \n",
    "2. Decimal\n",
    "3. String\n",
    "\n",
    "'''\n",
    "\n",
    "# Checking Datatypes of Variables\n",
    "print(type(number))\n",
    "print(type(decimal))\n",
    "print(type(string))\n"
   ]
  }
 ],
 "metadata": {
  "kernelspec": {
   "display_name": "base",
   "language": "python",
   "name": "python3"
  },
  "language_info": {
   "codemirror_mode": {
    "name": "ipython",
    "version": 3
   },
   "file_extension": ".py",
   "mimetype": "text/x-python",
   "name": "python",
   "nbconvert_exporter": "python",
   "pygments_lexer": "ipython3",
   "version": "3.12.7"
  }
 },
 "nbformat": 4,
 "nbformat_minor": 5
}
