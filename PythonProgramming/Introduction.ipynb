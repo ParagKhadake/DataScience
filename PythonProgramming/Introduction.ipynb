{
 "cells": [
  {
   "cell_type": "markdown",
   "id": "71b86564",
   "metadata": {},
   "source": [
    "### Introduction to Python Programming"
   ]
  },
  {
   "cell_type": "code",
   "execution_count": 1,
   "id": "eeda45d6",
   "metadata": {
    "scrolled": true
   },
   "outputs": [
    {
     "name": "stdout",
     "output_type": "stream",
     "text": [
      "<class 'int'>\n",
      "<class 'float'>\n",
      "<class 'str'>\n"
     ]
    }
   ],
   "source": [
    "# Variable Defination\n",
    "\n",
    "number = 1000          # Defining Integer Variable\n",
    "decimal = 1000.890     # Defining float Variable; Decimal\n",
    "string = 'Hello World' # Defining String: \"Text Information\"\n",
    "\n",
    "''' \n",
    "Data Types in Python are as follows\n",
    "1. Integer \n",
    "2. Decimal\n",
    "3. String\n",
    "\n",
    "'''\n",
    "\n",
    "# Checking Datatypes of Variables\n",
    "print(type(number))\n",
    "print(type(decimal))\n",
    "print(type(string))\n"
   ]
  },
  {
   "cell_type": "code",
   "execution_count": null,
   "id": "afe9fde4-c911-4630-9fe5-0b333eaa2df1",
   "metadata": {},
   "outputs": [
    {
     "name": "stdout",
     "output_type": "stream",
     "text": [
      "100\n"
     ]
    }
   ],
   "source": [
    "# Type casting of Data type\n",
    "\n",
    "num = 100.2908383       # float\n",
    "\n",
    "print(int(num))   # Flat is typecasted to int"
   ]
  },
  {
   "cell_type": "code",
   "execution_count": 5,
   "id": "2220a72a-19d5-4fb1-9da2-38ffb7317d71",
   "metadata": {},
   "outputs": [
    {
     "name": "stdout",
     "output_type": "stream",
     "text": [
      "Enter the Value 1000\n"
     ]
    },
    {
     "name": "stdout",
     "output_type": "stream",
     "text": [
      "<class 'str'>\n",
      "1000\n",
      "1000.0\n"
     ]
    }
   ],
   "source": [
    "# Using Input function\n",
    "# input() ---->> Function\n",
    "\n",
    "num = input('Enter the Value')\n",
    "\n",
    "'''\n",
    "Whenever we use input function, the output of input function is always string\n",
    "\n",
    "'''\n",
    "print(type(num))\n",
    "\n",
    "#Doing Typecasting\n",
    "print(int(num)) # Typecasting string value to integer\n",
    "print(float(num))  # Typecasting string value to flaot\n",
    "\n"
   ]
  },
  {
   "cell_type": "code",
   "execution_count": 9,
   "id": "ded8ba6a-75c8-4bf4-8d67-84ac29de483d",
   "metadata": {},
   "outputs": [
    {
     "name": "stdout",
     "output_type": "stream",
     "text": [
      "Enter the name of the person Rohit Sharma\n"
     ]
    },
    {
     "name": "stdout",
     "output_type": "stream",
     "text": [
      "Rohit Sharma\n",
      "<class 'str'>\n"
     ]
    }
   ],
   "source": [
    "# Ask the user to enter the string using input function\n",
    "\n",
    "str = input('Enter the name of the person')\n",
    "\n",
    "print(str)\n",
    "print(type(str))\n"
   ]
  },
  {
   "cell_type": "code",
   "execution_count": null,
   "id": "28f1dbcf-0dc8-4c25-a336-c3f92affd6fc",
   "metadata": {},
   "outputs": [
    {
     "name": "stdout",
     "output_type": "stream",
     "text": [
      "The addition of two numbers as num1 and num2 is 300.0\n",
      "The addition of two numbers as 100.0 and 200.0 is 300.0\n"
     ]
    }
   ],
   "source": [
    "# Perform Mathematical Operations\n",
    "\n",
    "num1 = float(input('Enter the first number'))\n",
    "num2 = float(input('Enter the Second number'))\n",
    "\n",
    "num3 = num1 + num2\n",
    "\n",
    "# Using fstring method\n",
    "\n",
    "print(f'The addition of two numbers as num1 and num2 is',num3)\n",
    "print(f'The addition of two numbers as {num1} and {num2} is',num3)      # when we use {variable} it takes the value from variable\n",
    "\n"
   ]
  },
  {
   "cell_type": "code",
   "execution_count": 2,
   "id": "5e7afe43",
   "metadata": {},
   "outputs": [
    {
     "name": "stdout",
     "output_type": "stream",
     "text": [
      "W\n",
      "W\n"
     ]
    }
   ],
   "source": [
    "# Strings Indexing and Slicing\n",
    "\n",
    "string = input('Enter the String :')\n",
    "\n",
    "''' \n",
    "H e l l o   W o r l d\n",
    "0 1 2 3 4 5 6 7 8 9 10 : Left--->> Right\n",
    "........       -3-2-1\n",
    "\n",
    "'''\n",
    "print(string[6])   #Indexing\n",
    "print(string[-5])  # Indexing"
   ]
  },
  {
   "cell_type": "code",
   "execution_count": 4,
   "id": "afd7e68e",
   "metadata": {},
   "outputs": [
    {
     "name": "stdout",
     "output_type": "stream",
     "text": [
      "ell\n",
      "Hello Worl\n",
      "llo Wor\n",
      "o Worl\n"
     ]
    }
   ],
   "source": [
    "# Concept of Sclicing\n",
    "\n",
    "string = input('Enter the String :')\n",
    "\n",
    "''' \n",
    "string[Start:Stop]\n",
    "Example: \n",
    "string = Hellow World\n",
    "string[1:4] ---->> o/p:---->> ell\n",
    "'''\n",
    "\n",
    "print(string[1:4])\n",
    "print(string[:-1])\n",
    "print(string[2:-2])\n",
    "print(string[4:-1])"
   ]
  },
  {
   "cell_type": "code",
   "execution_count": 5,
   "id": "b0e63a02",
   "metadata": {},
   "outputs": [
    {
     "name": "stdout",
     "output_type": "stream",
     "text": [
      "el ol\n"
     ]
    }
   ],
   "source": [
    "# Concept of Sclicing\n",
    "\n",
    "string = input('Enter the String :')\n",
    "''' \n",
    "string[Start:Stop:Step]\n",
    "Example: \n",
    "string = Hellow World\n",
    "string[1:4] ---->> o/p:---->> ell\n",
    "\n",
    "'''\n",
    "print(string[1::2])"
   ]
  },
  {
   "cell_type": "code",
   "execution_count": 6,
   "id": "e9e691ee",
   "metadata": {},
   "outputs": [
    {
     "name": "stdout",
     "output_type": "stream",
     "text": [
      "HloWloet h ol fPto rgamn\n",
      "o Welcome to the world of Python Programmi\n",
      "gnimmargorP nohtyP fo dlrow eht ot emocleW olleH\n"
     ]
    }
   ],
   "source": [
    "# Concept of Indexing and Sclicing Together\n",
    "\n",
    "str = 'Hello Welcome to the world of Python Programming'\n",
    "print(str[::2])\n",
    "print(str[4:-2:])\n",
    "print(str[::-1])"
   ]
  },
  {
   "cell_type": "code",
   "execution_count": 7,
   "id": "a1165dda",
   "metadata": {},
   "outputs": [
    {
     "name": "stdout",
     "output_type": "stream",
     "text": [
      "[10, 20, 30, 40]\n",
      "<class 'list'>\n",
      "[10, 20, 30, 40, 50]\n"
     ]
    }
   ],
   "source": [
    "# Data Structures in Python Programming\n",
    "\n",
    "''' \n",
    "1. List : [] : Mutable in Nature ... Editable\n",
    "2. Tuple : () : Immutable in nature... Cam't Edit\n",
    "3. Dictionary : []'key1': Value1, 'key2: value2}: Immutable in nature\n",
    "4. Sets       : [1,2,3,4,5] : Immutable in Nature\n",
    "\n",
    "\n",
    "if we are performing computaion operation or any softwere development progrrams Tuple is preffer than List.\n",
    "Beacause Tupple is Immutable in nature hence it performs faster operations.\n",
    "\n",
    "'''\n",
    "\n",
    "# List Defination\n",
    "\n",
    "lst = [10,20,30,40]\n",
    "\n",
    "print(lst)\n",
    "print(type(lst))\n",
    "\n",
    "#append() this is function which defined in class list\n",
    "# Therefore, append() is a method of class list\n",
    "# lst.append(50) : You are calling function using .operator\n",
    "\n",
    "lst.append(50)\n",
    "print(lst)"
   ]
  }
 ],
 "metadata": {
  "kernelspec": {
   "display_name": "base",
   "language": "python",
   "name": "python3"
  },
  "language_info": {
   "codemirror_mode": {
    "name": "ipython",
    "version": 3
   },
   "file_extension": ".py",
   "mimetype": "text/x-python",
   "name": "python",
   "nbconvert_exporter": "python",
   "pygments_lexer": "ipython3",
   "version": "3.12.7"
  }
 },
 "nbformat": 4,
 "nbformat_minor": 5
}
