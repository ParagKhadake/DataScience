{
 "cells": [
  {
   "cell_type": "markdown",
   "id": "71b86564",
   "metadata": {},
   "source": [
    "### Introduction to Python Programming"
   ]
  },
  {
   "cell_type": "code",
   "execution_count": 1,
   "id": "eeda45d6",
   "metadata": {
    "scrolled": true
   },
   "outputs": [
    {
     "name": "stdout",
     "output_type": "stream",
     "text": [
      "<class 'int'>\n",
      "<class 'float'>\n",
      "<class 'str'>\n"
     ]
    }
   ],
   "source": [
    "# Variable Defination\n",
    "\n",
    "number = 1000          # Defining Integer Variable\n",
    "decimal = 1000.890     # Defining float Variable; Decimal\n",
    "string = 'Hello World' # Defining String: \"Text Information\"\n",
    "\n",
    "''' \n",
    "Data Types in Python are as follows\n",
    "1. Integer \n",
    "2. Decimal\n",
    "3. String\n",
    "\n",
    "'''\n",
    "\n",
    "# Checking Datatypes of Variables\n",
    "print(type(number))\n",
    "print(type(decimal))\n",
    "print(type(string))\n"
   ]
  },
  {
   "cell_type": "code",
   "execution_count": 1,
   "id": "afe9fde4-c911-4630-9fe5-0b333eaa2df1",
   "metadata": {},
   "outputs": [
    {
     "name": "stdout",
     "output_type": "stream",
     "text": [
      "100\n"
     ]
    }
   ],
   "source": [
    "# Type casting of Data type\n",
    "\n",
    "num = 100.2908383       \n",
    "\n",
    "print(int(num))"
   ]
  },
  {
   "cell_type": "code",
   "execution_count": 5,
   "id": "2220a72a-19d5-4fb1-9da2-38ffb7317d71",
   "metadata": {},
   "outputs": [
    {
     "name": "stdin",
     "output_type": "stream",
     "text": [
      "Enter the Value 1000\n"
     ]
    },
    {
     "name": "stdout",
     "output_type": "stream",
     "text": [
      "<class 'str'>\n",
      "1000\n",
      "1000.0\n"
     ]
    }
   ],
   "source": [
    "# Using Input function\n",
    "# input() ---->> Function\n",
    "\n",
    "num = input('Enter the Value')\n",
    "\n",
    "'''\n",
    "Whenever we use input function, the output of input function is always string\n",
    "\n",
    "'''\n",
    "print(type(num))\n",
    "\n",
    "#Doing Typecasting\n",
    "print(int(num)) # Typecasting string value to integer\n",
    "print(float(num))  # Typecasting string value to flaot\n",
    "\n"
   ]
  },
  {
   "cell_type": "code",
   "execution_count": 9,
   "id": "ded8ba6a-75c8-4bf4-8d67-84ac29de483d",
   "metadata": {},
   "outputs": [
    {
     "name": "stdin",
     "output_type": "stream",
     "text": [
      "Enter the name of the person Rohit Sharma\n"
     ]
    },
    {
     "name": "stdout",
     "output_type": "stream",
     "text": [
      "Rohit Sharma\n",
      "<class 'str'>\n"
     ]
    }
   ],
   "source": [
    "# Ask the user to enter the string using input function\n",
    "\n",
    "str = input('Enter the name of the person')\n",
    "\n",
    "print(str)\n",
    "print(type(str))\n"
   ]
  },
  {
   "cell_type": "code",
   "execution_count": null,
   "id": "28f1dbcf-0dc8-4c25-a336-c3f92affd6fc",
   "metadata": {},
   "outputs": [],
   "source": []
  }
 ],
 "metadata": {
  "kernelspec": {
   "display_name": "Python [conda env:base] *",
   "language": "python",
   "name": "conda-base-py"
  },
  "language_info": {
   "codemirror_mode": {
    "name": "ipython",
    "version": 3
   },
   "file_extension": ".py",
   "mimetype": "text/x-python",
   "name": "python",
   "nbconvert_exporter": "python",
   "pygments_lexer": "ipython3",
   "version": "3.12.7"
  }
 },
 "nbformat": 4,
 "nbformat_minor": 5
}
