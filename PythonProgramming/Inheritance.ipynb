{
 "cells": [
  {
   "cell_type": "markdown",
   "id": "9b1a95e8",
   "metadata": {},
   "source": [
    "### INHERITANCE"
   ]
  },
  {
   "cell_type": "code",
   "execution_count": 6,
   "id": "b9efc06b",
   "metadata": {},
   "outputs": [
    {
     "name": "stdout",
     "output_type": "stream",
     "text": [
      "Tesla Model S is starting...\n",
      "Tesla Model S is charging with 10000 kwh battery.\n",
      "Tesla Model S is stopping...\n",
      "Honda CRV is starting...\n",
      "Honda CRV milage is 20 \n",
      "Honda CRV is stopping...\n"
     ]
    }
   ],
   "source": [
    "# Parent Class\n",
    "\n",
    "class Car:\n",
    "    def __init__(self,brand,model):\n",
    "        self.brand = brand\n",
    "        self.model = model \n",
    "    \n",
    "    def start(self):\n",
    "        print(f\"{self.brand} {self.model} is starting...\")\n",
    "    \n",
    "    def stop(self):\n",
    "        print(f\"{self.brand} {self.model} is stopping...\")\n",
    "\n",
    "\n",
    "# Child Class\n",
    "\n",
    "class Electriccar(Car):\n",
    "    def __init__(self,brand,model, battery_capacity):\n",
    "        super().__init__(brand,model) # Inherit Brand and model\n",
    "        self.battery_capacity = battery_capacity\n",
    "\n",
    "    def charge(self):\n",
    "        print(f\"{self.brand} {self.model} is charging with {self.battery_capacity} kwh battery.\")\n",
    "\n",
    "# Create an object of ElectricCar\n",
    "tesla = Electriccar(\"Tesla\", \"Model S\", 10000)\n",
    "tesla.start()\n",
    "tesla.charge()\n",
    "tesla.stop()\n",
    "\n",
    "\n",
    "# Child Class\n",
    "\n",
    "class Petrolcar(Car):\n",
    "    def __init__(self, brand, model,milage):\n",
    "        super().__init__(brand, model)\n",
    "        self.milage = milage\n",
    "\n",
    "    def details(self):\n",
    "        print(f\"{self.brand} {self.model} milage is {self.milage} \")\n",
    "\n",
    "honda = Petrolcar(\"Honda\", \"CRV\", 20)\n",
    "honda.start()\n",
    "honda.details()\n",
    "honda.stop()\n"
   ]
  },
  {
   "cell_type": "code",
   "execution_count": null,
   "id": "07674a81",
   "metadata": {},
   "outputs": [],
   "source": []
  },
  {
   "cell_type": "code",
   "execution_count": 8,
   "id": "7149090f",
   "metadata": {},
   "outputs": [
    {
     "name": "stdout",
     "output_type": "stream",
     "text": [
      " Name: Rohit Sharma\n",
      " Age: 38\n",
      " Sex: Male\n",
      "Mobile number: 9876543210\n",
      " Name: Virat Kohli\n",
      " Age: 40\n",
      " Sex: Male\n",
      "Mobile number: 9988776655\n"
     ]
    }
   ],
   "source": [
    "class Institution:\n",
    "    def __init__(self,first_name,last_name,age,sex,mobile_number):\n",
    "        self.first_name = first_name\n",
    "        self.last_name = last_name\n",
    "        self.age = age\n",
    "        self.sex = sex\n",
    "        self.mobile_number = mobile_number\n",
    "\n",
    "    def details(self):\n",
    "        print(f\" Name: {self.first_name} {self.last_name}\")\n",
    "        print(f\" Age: {self.age}\")\n",
    "        print(f\" Sex: {self.sex}\")\n",
    "        print(f\"Mobile number: {self.mobile_number}\")\n",
    "\n",
    "class students(Institution):\n",
    "    def __init__(self, first_name, last_name, age, sex, mobile_number,department):\n",
    "        super().__init__(first_name, last_name, age, sex, mobile_number)\n",
    "        self.department = department\n",
    "\n",
    "class faculty(Institution):\n",
    "    def __init__(self, first_name, last_name, age, sex, mobile_number,experience):\n",
    "        super().__init__(first_name, last_name, age, sex, mobile_number)\n",
    "        self.experience = experience\n",
    "\n",
    "X = students('Rohit','Sharma',38,'Male', 9876543210,'Sports')\n",
    "Y = faculty('Virat','Kohli',40,'Male',9988776655,15)\n",
    "X.details()\n",
    "Y.details()\n",
    "\n",
    "    "
   ]
  }
 ],
 "metadata": {
  "kernelspec": {
   "display_name": "base",
   "language": "python",
   "name": "python3"
  },
  "language_info": {
   "codemirror_mode": {
    "name": "ipython",
    "version": 3
   },
   "file_extension": ".py",
   "mimetype": "text/x-python",
   "name": "python",
   "nbconvert_exporter": "python",
   "pygments_lexer": "ipython3",
   "version": "3.12.7"
  }
 },
 "nbformat": 4,
 "nbformat_minor": 5
}
