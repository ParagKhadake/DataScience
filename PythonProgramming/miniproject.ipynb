{
 "cells": [
  {
   "cell_type": "code",
   "execution_count": 36,
   "id": "90c6d8d3",
   "metadata": {},
   "outputs": [],
   "source": [
    "class Bank_Account:\n",
    "    def __init__(self):\n",
    "        self.first_name = input('Enter the first_name')\n",
    "        self.last_name = input('Enter the last_name')\n",
    "        self.age = int(input('Enter the age'))\n",
    "        self.sex = input('Enter the sex')\n",
    "        self.mobile_number = int(input('mobile_number'))\n",
    "\n",
    "    def details(self):\n",
    "        print(f'The first name is {self.first_name}')\n",
    "        print(f'The last name is {self.last_name}')\n",
    "        print(f'The age is {self.age}')\n",
    "        print(f'The sex is {self.sex} ')\n",
    "        print(f'The mobile number is {self.mobile_number}')\n",
    "    \n",
    "class Saving_Acc(Bank_Account):\n",
    "    def intrest_rate(self):\n",
    "        return 3\n",
    "    \n",
    "class Current_Acc(Bank_Account):\n",
    "    def intrest_rate(self):\n",
    "        return 0\n",
    "\n",
    "class Pensioner_acc(Bank_Account):\n",
    "    def intrest_rate(self):\n",
    "        return 6\n",
    "      \n",
    "class NRI_Acc(Bank_Account):\n",
    "    def intrest_rate(self):\n",
    "        return 5 \n",
    "    \n",
    "a = Saving_Acc()\n",
    "b = Current_Acc()\n",
    "c = Pensioner_acc()\n",
    "d = NRI_Acc()\n",
    "    "
   ]
  },
  {
   "cell_type": "code",
   "execution_count": 37,
   "id": "b935a535",
   "metadata": {},
   "outputs": [
    {
     "name": "stdout",
     "output_type": "stream",
     "text": [
      "The first name is rohit \n",
      "The last name is sharma\n",
      "The age is 38\n",
      "The sex is Male \n",
      "The mobile number is 7007007000\n"
     ]
    }
   ],
   "source": [
    "a.details()"
   ]
  },
  {
   "cell_type": "code",
   "execution_count": 38,
   "id": "719cf8a3",
   "metadata": {},
   "outputs": [
    {
     "data": {
      "text/plain": [
       "3"
      ]
     },
     "execution_count": 38,
     "metadata": {},
     "output_type": "execute_result"
    }
   ],
   "source": [
    "a.intrest_rate()"
   ]
  },
  {
   "cell_type": "code",
   "execution_count": 39,
   "id": "1bb7806a",
   "metadata": {},
   "outputs": [
    {
     "name": "stdout",
     "output_type": "stream",
     "text": [
      "The first name is virat\n",
      "The last name is kohli\n",
      "The age is 37\n",
      "The sex is Male \n",
      "The mobile number is 9876543214\n"
     ]
    },
    {
     "data": {
      "text/plain": [
       "0"
      ]
     },
     "execution_count": 39,
     "metadata": {},
     "output_type": "execute_result"
    }
   ],
   "source": [
    "b.details()\n",
    "b.intrest_rate()\n"
   ]
  },
  {
   "cell_type": "code",
   "execution_count": 40,
   "id": "6cf3fb5e",
   "metadata": {},
   "outputs": [
    {
     "name": "stdout",
     "output_type": "stream",
     "text": [
      "The first name is fsdgg\n",
      "The last name is vdvad\n",
      "The age is 45\n",
      "The sex is Female \n",
      "The mobile number is 5464651215\n"
     ]
    },
    {
     "data": {
      "text/plain": [
       "6"
      ]
     },
     "execution_count": 40,
     "metadata": {},
     "output_type": "execute_result"
    }
   ],
   "source": [
    "c.details()\n",
    "c.intrest_rate()"
   ]
  },
  {
   "cell_type": "code",
   "execution_count": 41,
   "id": "a18b2fd6",
   "metadata": {},
   "outputs": [
    {
     "name": "stdout",
     "output_type": "stream",
     "text": [
      "The first name is dvdvad\n",
      "The last name is vsdavsv\n",
      "The age is 48\n",
      "The sex is Female \n",
      "The mobile number is 4\n"
     ]
    },
    {
     "data": {
      "text/plain": [
       "5"
      ]
     },
     "execution_count": 41,
     "metadata": {},
     "output_type": "execute_result"
    }
   ],
   "source": [
    "d.details()\n",
    "d.intrest_rate()"
   ]
  }
 ],
 "metadata": {
  "kernelspec": {
   "display_name": "base",
   "language": "python",
   "name": "python3"
  },
  "language_info": {
   "codemirror_mode": {
    "name": "ipython",
    "version": 3
   },
   "file_extension": ".py",
   "mimetype": "text/x-python",
   "name": "python",
   "nbconvert_exporter": "python",
   "pygments_lexer": "ipython3",
   "version": "3.12.7"
  }
 },
 "nbformat": 4,
 "nbformat_minor": 5
}
