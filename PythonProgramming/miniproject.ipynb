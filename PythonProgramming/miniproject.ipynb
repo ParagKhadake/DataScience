{
 "cells": [
  {
   "cell_type": "code",
   "execution_count": 1,
   "id": "90c6d8d3",
   "metadata": {},
   "outputs": [],
   "source": [
    "# Defining parent class: Bank_Account\n",
    "class Bank_Account:\n",
    "    # Defining special method: Constructor function\n",
    "    def __init__(self):\n",
    "        # Defining attributes inside constructor function\n",
    "        self.first_name = input('Enter the first_name') \n",
    "        self.last_name = input('Enter the last_name')\n",
    "        self.age = int(input('Enter the age'))\n",
    "        self.sex = input('Enter the sex')\n",
    "        self.mobile_number = int(input('mobile_number'))\n",
    "    # Defining method: details\n",
    "    def details(self):\n",
    "        print(f'The first name is {self.first_name}')\n",
    "        print(f'The last name is {self.last_name}')\n",
    "        print(f'The age is {self.age}')\n",
    "        print(f'The sex is {self.sex} ')\n",
    "        print(f'The mobile number is {self.mobile_number}')\n",
    "\n",
    "# Defining Child Class: Saving_Acc \n",
    "class Saving_Acc(Bank_Account):\n",
    "    # Defing method: intrest rate\n",
    "    def intrest_rate(self):\n",
    "        return 3\n",
    "    \n",
    "# Defining Child Class:Current_Acc  \n",
    "class Current_Acc(Bank_Account):\n",
    "    # Defing method: intrest rate\n",
    "    def intrest_rate(self):\n",
    "        return 0\n",
    "    \n",
    "# Defining Child Class:Pensioner_acc\n",
    "class Pensioner_acc(Bank_Account):\n",
    "    # Defing method: intrest rate\n",
    "    def intrest_rate(self):\n",
    "        return 6\n",
    "    \n",
    "# Defining Child Class:NRI_Acc  \n",
    "class NRI_Acc(Bank_Account):\n",
    "    # Defing method: intrest rate\n",
    "    def intrest_rate(self):\n",
    "        return 5 \n",
    "    \n",
    "# Defining Object\n",
    "Mihir = Saving_Acc()\n",
    "Disha = Current_Acc()\n",
    "Ajay = Pensioner_acc()\n",
    "Nikhil = NRI_Acc()\n",
    "Aniket = Saving_Acc()\n",
    "Parag = Current_Acc()\n",
    "Tosif = Pensioner_acc()\n",
    "Hemangi = NRI_Acc()  "
   ]
  },
  {
   "cell_type": "code",
   "execution_count": 2,
   "id": "b935a535",
   "metadata": {},
   "outputs": [
    {
     "data": {
      "text/plain": [
       "3"
      ]
     },
     "execution_count": 2,
     "metadata": {},
     "output_type": "execute_result"
    }
   ],
   "source": [
    "Mihir.intrest_rate()"
   ]
  },
  {
   "cell_type": "code",
   "execution_count": 3,
   "id": "24279c46",
   "metadata": {},
   "outputs": [
    {
     "name": "stdout",
     "output_type": "stream",
     "text": [
      "The first name is cfggfffs\n",
      "The last name is vsfdsfd\n",
      "The age is 45\n",
      "The sex is male \n",
      "The mobile number is 4789562456\n"
     ]
    }
   ],
   "source": [
    "Hemangi.details()"
   ]
  },
  {
   "cell_type": "code",
   "execution_count": 4,
   "id": "4755f0e8",
   "metadata": {},
   "outputs": [
    {
     "name": "stdout",
     "output_type": "stream",
     "text": [
      "The first name is hahdvkds\n",
      "The last name is vdsvsv\n",
      "The age is 54\n",
      "The sex is Male \n",
      "The mobile number is 789654123\n"
     ]
    }
   ],
   "source": [
    "Tosif.details()"
   ]
  },
  {
   "cell_type": "code",
   "execution_count": 27,
   "id": "27a19c66",
   "metadata": {},
   "outputs": [],
   "source": [
    "# Defining parent class:Transactions\n",
    "class Transaction:\n",
    "    # Defining special method: Constructor function\n",
    "    def __init__(self):\n",
    "        # Defining attributes inside constructor function  \n",
    "        self.Amount_debited = float(input('Enter the amount_debited'))\n",
    "        self.Amount_credited = float(input('Enter the amount credited'))\n",
    "        self.Amount_balance = 10000\n",
    "        self.Account_no = int(input('Enter the account no.'))\n",
    "\n",
    "    # Defining method: Acc_details\n",
    "    def Acc_details(self):\n",
    "        print(f'Enter the Account No: {self.Account_no}')\n",
    "        print(f'Balance Amount {self.Amount_balance}')\n",
    "        print(f'Enter the Debited Amount {self.Amount_debited}')\n",
    "        print(f'Enter the Credied Amount {self.Amount_credited}')\n",
    "\n",
    "# Defining Child Class:UPI\n",
    "class UPI(Transaction):\n",
    "    def Balance (self):\n",
    "        if self.Amount_debited < self.Amount_balance:\n",
    "            new_balance = self.Amount_credited + self.Amount_balance - self.Amount_debited     \n",
    "            print(f\"Account no {self.Account_no} having debited amount {self.Amount_debited}, amount credited {self.Amount_credited} So new balance = {new_balance}\")\n",
    "        else:\n",
    "            print(\"Insufficient Balance\")\n",
    "        \n",
    "        \n",
    "# Defining Child Class:Googlepay\n",
    "class Googlepay(Transaction):\n",
    "    def Balance (self):\n",
    "        if self.Amount_debited < self.Amount_balance:\n",
    "            new_balance = self.Amount_credited + self.Amount_balance - self.Amount_debited     \n",
    "            print(f\"Account no {self.Account_no} having debited amount {self.Amount_debited}, amount credited {self.Amount_credited} So new balance = {new_balance}\")\n",
    "        else:\n",
    "            print(\"Insufficient Balance\")\n",
    "    \n",
    "# Defining Child Class:Amazonpay\n",
    "class Amazonepay(Transaction):\n",
    "    def Balance (self):\n",
    "        if self.Amount_debited < self.Amount_balance:\n",
    "            new_balance = self.Amount_credited + self.Amount_balance - self.Amount_debited     \n",
    "            print(f\"Account no {self.Account_no} having debited amount {self.Amount_debited}, amount credited {self.Amount_credited} So new balance = {new_balance}\")\n",
    "        else:\n",
    "            print(\"Insufficient Balance\")\n",
    "\n",
    "# Defining Child Class:Phonepay\n",
    "class phonepay(Transaction):\n",
    "    def Balance (self):\n",
    "        if self.Amount_debited < self.Amount_balance:\n",
    "            new_balance = self.Amount_credited + self.Amount_balance - self.Amount_debited     \n",
    "            print(f\"Account no {self.Account_no} having debited amount {self.Amount_debited}, amount credited {self.Amount_credited} So new balance = {new_balance}\")\n",
    "        else:\n",
    "            print(\"Insufficient Balance\")\n",
    "\n",
    "# Defining Obiject\n",
    "A = UPI()\n",
    "B = Googlepay()\n",
    "C = Amazonepay()\n",
    "D = phonepay()\n"
   ]
  },
  {
   "cell_type": "code",
   "execution_count": null,
   "id": "5f3f29e6",
   "metadata": {},
   "outputs": [],
   "source": []
  },
  {
   "cell_type": "code",
   "execution_count": 28,
   "id": "f2f3d8ea",
   "metadata": {},
   "outputs": [
    {
     "name": "stdout",
     "output_type": "stream",
     "text": [
      "Account no 123 having debited amount 1000.0, amount credited 0.0 So new balance = 9000.0\n",
      "Account no 456 having debited amount 3000.0, amount credited 2000.0 So new balance = 9000.0\n",
      "Account no 7896 having debited amount 0.0, amount credited 6000.0 So new balance = 16000.0\n",
      "Account no 4523 having debited amount 654.25, amount credited 30.1 So new balance = 9375.85\n"
     ]
    }
   ],
   "source": [
    "A.Balance()\n",
    "B.Balance()\n",
    "C.Balance()\n",
    "D.Balance()"
   ]
  }
 ],
 "metadata": {
  "kernelspec": {
   "display_name": "base",
   "language": "python",
   "name": "python3"
  },
  "language_info": {
   "codemirror_mode": {
    "name": "ipython",
    "version": 3
   },
   "file_extension": ".py",
   "mimetype": "text/x-python",
   "name": "python",
   "nbconvert_exporter": "python",
   "pygments_lexer": "ipython3",
   "version": "3.12.7"
  }
 },
 "nbformat": 4,
 "nbformat_minor": 5
}
