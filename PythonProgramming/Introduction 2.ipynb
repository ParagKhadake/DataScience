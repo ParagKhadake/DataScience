{
 "cells": [
  {
   "cell_type": "code",
   "execution_count": 1,
   "id": "3e8b9145",
   "metadata": {},
   "outputs": [
    {
     "name": "stdout",
     "output_type": "stream",
     "text": [
      "<class 'type'>\n"
     ]
    },
    {
     "data": {
      "text/plain": [
       "1"
      ]
     },
     "execution_count": 1,
     "metadata": {},
     "output_type": "execute_result"
    }
   ],
   "source": [
    "\n",
    "# Tuple Defination\n",
    "\n",
    "tup = (10,20,30,40)\n",
    "print(type(tuple))\n",
    "tup.count(10)"
   ]
  },
  {
   "cell_type": "code",
   "execution_count": 2,
   "id": "99a30d61",
   "metadata": {},
   "outputs": [
    {
     "data": {
      "text/plain": [
       "0"
      ]
     },
     "execution_count": 2,
     "metadata": {},
     "output_type": "execute_result"
    }
   ],
   "source": [
    "tup.index(10)\n"
   ]
  },
  {
   "cell_type": "code",
   "execution_count": 3,
   "id": "0dceba1f",
   "metadata": {},
   "outputs": [
    {
     "name": "stdout",
     "output_type": "stream",
     "text": [
      "70 80\n"
     ]
    }
   ],
   "source": [
    "# Tuple Indexing and Slicing\n",
    "\n",
    "tup = (10,20,30,[40,50,(30,40,(60,70,80))])\n",
    "\n",
    "# Example\n",
    "\n",
    "# O/P : 70,80\n",
    "\n",
    "output=tup[3][2][2][1:]\n",
    "print(*output)\n",
    "\n"
   ]
  },
  {
   "cell_type": "code",
   "execution_count": 4,
   "id": "8e3ee5ad",
   "metadata": {},
   "outputs": [
    {
     "name": "stdout",
     "output_type": "stream",
     "text": [
      "The value is 10\n"
     ]
    }
   ],
   "source": [
    "# Condtitonal Statement\n",
    "\n",
    "''' \n",
    "\n",
    "if condtition == True:\n",
    "   Perform Operation inside the loop\n",
    "else:\n",
    "   perform this operation\n",
    "\n",
    "Note: = : Assignment Operator\n",
    "      ==: Comparison Operator  \n",
    "\n",
    "'''\n",
    "\n",
    "num = 10\n",
    "\n",
    "if num == 10:\n",
    "\n",
    "    print('The value is 10')\n",
    "else:\n",
    "    print('The Value is other than 10')\n",
    "\n"
   ]
  },
  {
   "cell_type": "code",
   "execution_count": 5,
   "id": "57ebdf4f",
   "metadata": {},
   "outputs": [
    {
     "name": "stdout",
     "output_type": "stream",
     "text": [
      "The Given String is Palindrom\n"
     ]
    }
   ],
   "source": [
    "# Check the given string is palindrom or not\n",
    "\n",
    "text = 'dad'\n",
    "text1 = text[::-1]\n",
    "\n",
    "\n",
    "if text == text1:\n",
    "   print('The Given String is Palindrom') \n",
    "else:\n",
    "   print('The Given String is Not a Palindrom')"
   ]
  },
  {
   "cell_type": "code",
   "execution_count": 6,
   "id": "f15f3450",
   "metadata": {},
   "outputs": [
    {
     "data": {
      "text/plain": [
       "'  \\nif condition:\\n    statement\\nelif condtiton:\\nelse:\\n    statement     \\n'"
      ]
     },
     "execution_count": 6,
     "metadata": {},
     "output_type": "execute_result"
    }
   ],
   "source": [
    "'''  \n",
    "if condition:\n",
    "    statement\n",
    "elif condtiton:\n",
    "else:\n",
    "    statement     \n",
    "'''\n"
   ]
  },
  {
   "cell_type": "code",
   "execution_count": 7,
   "id": "9b74735f",
   "metadata": {},
   "outputs": [
    {
     "name": "stdout",
     "output_type": "stream",
     "text": [
      "Good Student\n"
     ]
    }
   ],
   "source": [
    "'''\n",
    "marks > 80  : Best Student\n",
    "Marks between 60 to 79 : Good Student\n",
    "Marks between 50 to 59 : Average Student\n",
    "Marks < 49 : Poor Student\n",
    "\n",
    "'''\n",
    "marks = float (input('Enter Marks  of the Student:'))\n",
    "\n",
    "if (marks > 80):\n",
    "    print('Best Student')\n",
    "elif (marks < 80 and marks > 60):\n",
    "    print('Good Student')\n",
    "elif (marks < 60 and marks > 50):\n",
    "    print('Average Student')\n",
    "else:\n",
    "    print('Poor Student')"
   ]
  },
  {
   "cell_type": "code",
   "execution_count": 8,
   "id": "d02468a5",
   "metadata": {},
   "outputs": [
    {
     "name": "stdout",
     "output_type": "stream",
     "text": [
      "New Balance is  5000.0\n"
     ]
    }
   ],
   "source": [
    "'''\n",
    "Balance = 10000\n",
    "Withdraw = amount\n",
    "threshould value = 2000\n",
    "\n",
    "'''\n",
    "\n",
    "balance = 10000\n",
    "threshold = 2000\n",
    "withdraw = float(input('Enter the Amount to Withdraw: '))\n",
    "\n",
    "if withdraw >= balance:\n",
    "    print('Insufficient Balance')\n",
    "if withdraw <= balance:\n",
    "        new_balance = balance - withdraw\n",
    "        if new_balance >= 2000:\n",
    "            print('New Balance is ',new_balance)\n",
    "        else:\n",
    "            print('Check Your Transaction')\n",
    "                 \n",
    "\n"
   ]
  },
  {
   "cell_type": "code",
   "execution_count": 9,
   "id": "cd5f161a",
   "metadata": {},
   "outputs": [
    {
     "name": "stdout",
     "output_type": "stream",
     "text": [
      "0\n",
      "1\n",
      "2\n",
      "3\n",
      "4\n",
      "5\n",
      "6\n",
      "7\n",
      "8\n",
      "9\n"
     ]
    }
   ],
   "source": [
    "# For Loop\n",
    "\n",
    "for i in range(0,10):\n",
    "    print(i)"
   ]
  },
  {
   "cell_type": "code",
   "execution_count": 10,
   "id": "781ccb0f",
   "metadata": {},
   "outputs": [
    {
     "name": "stdout",
     "output_type": "stream",
     "text": [
      "1 2 3 4 5 6 7 8 9 10 "
     ]
    }
   ],
   "source": [
    "for i in range(1,11):\n",
    "    print(i,end=\" \")"
   ]
  },
  {
   "cell_type": "code",
   "execution_count": 11,
   "id": "36ac1a3e",
   "metadata": {},
   "outputs": [
    {
     "name": "stdout",
     "output_type": "stream",
     "text": [
      "*\n",
      "**\n",
      "***\n",
      "****\n",
      "*****\n"
     ]
    }
   ],
   "source": [
    "'''\n",
    "*\n",
    "**\n",
    "***\n",
    "****\n",
    "*****\n",
    "\n",
    "'''\n",
    "\n",
    "for i in range(1,6):\n",
    "    print('*'*i)\n",
    "\n"
   ]
  },
  {
   "cell_type": "code",
   "execution_count": 12,
   "id": "ae70a585",
   "metadata": {},
   "outputs": [
    {
     "name": "stdout",
     "output_type": "stream",
     "text": [
      "*\n",
      "****\n",
      "*********\n",
      "****************\n",
      "*************************\n"
     ]
    }
   ],
   "source": [
    "for i in range(1,6):\n",
    "    print('*'*i*i)\n"
   ]
  },
  {
   "cell_type": "code",
   "execution_count": null,
   "id": "59a6e7f3-dd09-4547-be23-18090f588cd8",
   "metadata": {},
   "outputs": [
    {
     "name": "stdout",
     "output_type": "stream",
     "text": [
      "0\n",
      "2\n",
      "4\n",
      "6\n",
      "8\n"
     ]
    }
   ],
   "source": [
    "'''  \n",
    "range(start,stop,step)\n",
    "\n",
    "'''\n",
    "\n",
    "for i in range(0,10,2):\n",
    "    print(i)"
   ]
  },
  {
   "cell_type": "code",
   "execution_count": 16,
   "id": "f627f1da",
   "metadata": {},
   "outputs": [
    {
     "name": "stdout",
     "output_type": "stream",
     "text": [
      "0\n",
      "1\n",
      "2\n",
      "3\n",
      "4\n",
      "5\n"
     ]
    }
   ],
   "source": [
    "# Using while loop\n",
    "\n",
    "num = 5 \n",
    "i = 0\n",
    "while i <= num:\n",
    "    print(i)\n",
    "    i=i+1"
   ]
  },
  {
   "cell_type": "code",
   "execution_count": 20,
   "id": "ba7844c1",
   "metadata": {},
   "outputs": [
    {
     "name": "stdout",
     "output_type": "stream",
     "text": [
      "0\n",
      "2\n",
      "4\n",
      "6\n",
      "8\n",
      "10\n"
     ]
    }
   ],
   "source": [
    "num = 10\n",
    "count = 0\n",
    "while count <= num:\n",
    "    if count%2 ==0:\n",
    "        print(count)\n",
    "    count = count + 1"
   ]
  },
  {
   "cell_type": "code",
   "execution_count": 27,
   "id": "f1f07ffd",
   "metadata": {},
   "outputs": [],
   "source": [
    "for i in range(0,20,2):\n",
    "    continue\n",
    "    print(i)\n"
   ]
  },
  {
   "cell_type": "code",
   "execution_count": 24,
   "id": "0763e22f",
   "metadata": {},
   "outputs": [
    {
     "name": "stdout",
     "output_type": "stream",
     "text": [
      "0\n",
      "2\n",
      "4\n",
      "6\n",
      "8\n",
      "10\n",
      "12\n",
      "14\n",
      "16\n",
      "18\n"
     ]
    }
   ],
   "source": [
    "for i in range(0,20,2):\n",
    "    pass\n",
    "    print(i)"
   ]
  },
  {
   "cell_type": "code",
   "execution_count": 26,
   "id": "1818a990",
   "metadata": {},
   "outputs": [],
   "source": [
    "for i in range(0,20,2):\n",
    "   break\n",
    "   print(i)"
   ]
  },
  {
   "cell_type": "code",
   "execution_count": 28,
   "id": "6733c339",
   "metadata": {},
   "outputs": [
    {
     "name": "stdout",
     "output_type": "stream",
     "text": [
      "0\n",
      "1\n",
      "2\n",
      "3\n",
      "4\n",
      "5\n"
     ]
    }
   ],
   "source": [
    "for i in range(0,15):\n",
    "    if i<=5:\n",
    "        print(i)\n",
    "    continue    "
   ]
  },
  {
   "cell_type": "code",
   "execution_count": 29,
   "id": "992d71b5",
   "metadata": {},
   "outputs": [
    {
     "name": "stdout",
     "output_type": "stream",
     "text": [
      "0\n"
     ]
    }
   ],
   "source": [
    "for i in range(0,15):\n",
    "    if i<=5:\n",
    "        print(i)\n",
    "    break"
   ]
  },
  {
   "cell_type": "code",
   "execution_count": 30,
   "id": "2c955ef5",
   "metadata": {},
   "outputs": [
    {
     "name": "stdout",
     "output_type": "stream",
     "text": [
      "0\n"
     ]
    }
   ],
   "source": [
    "for i in range(0,15):\n",
    "    if i<=5:\n",
    "        print(i)\n",
    "        break\n",
    "    continue"
   ]
  },
  {
   "cell_type": "code",
   "execution_count": 33,
   "id": "16a236f1",
   "metadata": {},
   "outputs": [
    {
     "name": "stdout",
     "output_type": "stream",
     "text": [
      "0\n",
      "10\n",
      "0\n",
      "11\n",
      "0\n",
      "12\n",
      "0\n",
      "13\n",
      "0\n",
      "14\n",
      "0\n",
      "15\n",
      "0\n",
      "16\n",
      "0\n",
      "17\n",
      "0\n",
      "18\n",
      "0\n",
      "19\n",
      "1\n",
      "10\n",
      "1\n",
      "11\n",
      "1\n",
      "12\n",
      "1\n",
      "13\n",
      "1\n",
      "14\n",
      "1\n",
      "15\n",
      "1\n",
      "16\n",
      "1\n",
      "17\n",
      "1\n",
      "18\n",
      "1\n",
      "19\n",
      "2\n",
      "10\n",
      "2\n",
      "11\n",
      "2\n",
      "12\n",
      "2\n",
      "13\n",
      "2\n",
      "14\n",
      "2\n",
      "15\n",
      "2\n",
      "16\n",
      "2\n",
      "17\n",
      "2\n",
      "18\n",
      "2\n",
      "19\n",
      "3\n",
      "10\n",
      "3\n",
      "11\n",
      "3\n",
      "12\n",
      "3\n",
      "13\n",
      "3\n",
      "14\n",
      "3\n",
      "15\n",
      "3\n",
      "16\n",
      "3\n",
      "17\n",
      "3\n",
      "18\n",
      "3\n",
      "19\n",
      "4\n",
      "10\n",
      "4\n",
      "11\n",
      "4\n",
      "12\n",
      "4\n",
      "13\n",
      "4\n",
      "14\n",
      "4\n",
      "15\n",
      "4\n",
      "16\n",
      "4\n",
      "17\n",
      "4\n",
      "18\n",
      "4\n",
      "19\n",
      "5\n",
      "10\n",
      "5\n",
      "11\n",
      "5\n",
      "12\n",
      "5\n",
      "13\n",
      "5\n",
      "14\n",
      "5\n",
      "15\n",
      "5\n",
      "16\n",
      "5\n",
      "17\n",
      "5\n",
      "18\n",
      "5\n",
      "19\n",
      "6\n",
      "10\n",
      "6\n",
      "11\n",
      "6\n",
      "12\n",
      "6\n",
      "13\n",
      "6\n",
      "14\n",
      "6\n",
      "15\n",
      "6\n",
      "16\n",
      "6\n",
      "17\n",
      "6\n",
      "18\n",
      "6\n",
      "19\n",
      "7\n",
      "10\n",
      "7\n",
      "11\n",
      "7\n",
      "12\n",
      "7\n",
      "13\n",
      "7\n",
      "14\n",
      "7\n",
      "15\n",
      "7\n",
      "16\n",
      "7\n",
      "17\n",
      "7\n",
      "18\n",
      "7\n",
      "19\n",
      "8\n",
      "10\n",
      "8\n",
      "11\n",
      "8\n",
      "12\n",
      "8\n",
      "13\n",
      "8\n",
      "14\n",
      "8\n",
      "15\n",
      "8\n",
      "16\n",
      "8\n",
      "17\n",
      "8\n",
      "18\n",
      "8\n",
      "19\n",
      "9\n",
      "10\n",
      "9\n",
      "11\n",
      "9\n",
      "12\n",
      "9\n",
      "13\n",
      "9\n",
      "14\n",
      "9\n",
      "15\n",
      "9\n",
      "16\n",
      "9\n",
      "17\n",
      "9\n",
      "18\n",
      "9\n",
      "19\n"
     ]
    }
   ],
   "source": [
    "for i in range(0,10):\n",
    "    for j in range(10,20):\n",
    "        print(i)\n",
    "        print(j)"
   ]
  },
  {
   "cell_type": "code",
   "execution_count": 40,
   "id": "d5812697",
   "metadata": {},
   "outputs": [
    {
     "name": "stdout",
     "output_type": "stream",
     "text": [
      "Addition of 56.0 and 47.0: 103.0\n"
     ]
    }
   ],
   "source": [
    "'''  \n",
    "num1\n",
    "num2\n",
    "choice = +,-,*,/\n",
    "\n",
    "\n",
    "num1 =\n",
    "num2 =\n",
    "choice= \n",
    "\n",
    "\n",
    "if choice == '+'\n",
    "   addition\n",
    "if choice == '-'\n",
    "    substraction\n",
    "\n",
    "else:\n",
    "    check the entered choice\n",
    "\n",
    "'''\n",
    "\n",
    "\n",
    "num1 = float(input('Enter the num1: '))\n",
    "num2 = float(input('Enter the num2: '))\n",
    "choice = input('Select operator +,-,*,/: ')\n",
    "\n",
    "if choice =='+':\n",
    "   num3 = num1+num2\n",
    "   print(f'Addition of {num1} and {num2}:',num3)\n",
    "\n",
    "elif choice == '-':\n",
    "   num3 = num1-num2\n",
    "   print(f'Substraction of {num1} and {num2}:',num3)\n",
    "\n",
    "else:\n",
    "   print('Check the entered choice')\n"
   ]
  }
 ],
 "metadata": {
  "kernelspec": {
   "display_name": "base",
   "language": "python",
   "name": "python3"
  },
  "language_info": {
   "codemirror_mode": {
    "name": "ipython",
    "version": 3
   },
   "file_extension": ".py",
   "mimetype": "text/x-python",
   "name": "python",
   "nbconvert_exporter": "python",
   "pygments_lexer": "ipython3",
   "version": "3.12.7"
  }
 },
 "nbformat": 4,
 "nbformat_minor": 5
}
